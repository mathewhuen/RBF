{
 "cells": [
  {
   "cell_type": "markdown",
   "metadata": {},
   "source": [
    "# Shallow RBF Network\n",
    "Below is a very simple demonstration of a shallow RBF network. As opposed to dense layers, where input vectors are linearly transformed ($W*x+b$), in an RBF layer, the distance from the input to each in a set of <b>trainable</b> reference vectors is calculated ($||v_i-x||$). A classification layer can then be trained on the outputs of the RBF layer (traditionally grouped with the rbf layer as weights)\n",
    "\n",
    "To see an example on an on an untransformed input, let's look at the common moons example from sklearn below. This is a gif of classification as the network is being trained. The red dots are the RBF vectors. You can see how the network learns where to place the vectors and how to interpret classes.\n",
    "\n",
    "<img src=\"rbf_centers.gif\" width=\"400\" height=\"400\" />"
   ]
  },
  {
   "cell_type": "code",
   "execution_count": null,
   "metadata": {},
   "outputs": [],
   "source": [
    "import torch\n",
    "from torch import nn\n",
    "import numpy as np\n",
    "from sklearn.datasets import make_moons\n",
    "from sklearn.metrics import f1_score\n",
    "from rbf import RBF"
   ]
  },
  {
   "cell_type": "code",
   "execution_count": null,
   "metadata": {},
   "outputs": [],
   "source": [
    "class shallow_rbf(nn.Module):\n",
    "    def __init__(self, d_in, k, n_classes, pre_transform=False):\n",
    "        \"\"\"\n",
    "        \"\"\"\n",
    "        super(shallow_rbf, self).__init__()\n",
    "        self.net = nn.Sequential()\n",
    "        \n",
    "        if(pre_transform):\n",
    "            self.net.add_module('dense', nn.Linear(d_in, d_in))\n",
    "            self.net.add_module('activation', nn.LeakyReLU())\n",
    "        self.net.add_module('rbf', RBF(d_in=d_in, k=k))\n",
    "        self.net.add_module('weights', nn.Linear(k, n_classes))\n",
    "        self.net.add_module('softmax', nn.Softmax(dim=1))\n",
    "        \n",
    "    def forward(self, x):\n",
    "        y = self.net(x)\n",
    "        return(y)"
   ]
  },
  {
   "cell_type": "code",
   "execution_count": null,
   "metadata": {},
   "outputs": [],
   "source": [
    "X_, Y_ = make_moons(1000, noise=.15)"
   ]
  },
  {
   "cell_type": "code",
   "execution_count": null,
   "metadata": {},
   "outputs": [],
   "source": [
    "from matplotlib import pyplot as plt\n",
    "fig = plt.figure(figsize=(5,5))\n",
    "plt.scatter(X_[:,0], X_[:,1], c=Y_, s=8)"
   ]
  },
  {
   "cell_type": "code",
   "execution_count": null,
   "metadata": {},
   "outputs": [],
   "source": [
    "shallow = shallow_rbf(d_in=2, k=20, n_classes=2).float()"
   ]
  },
  {
   "cell_type": "code",
   "execution_count": null,
   "metadata": {},
   "outputs": [],
   "source": [
    "X = torch.tensor(X_).float()\n",
    "Y = torch.tensor(Y_)#.float()"
   ]
  },
  {
   "cell_type": "code",
   "execution_count": null,
   "metadata": {},
   "outputs": [],
   "source": [
    "n = X.shape[0]\n",
    "inds = np.random.permutation(n)\n",
    "split = .8\n",
    "train = inds[:int(split*n)]\n",
    "val = inds[int(split*n):]"
   ]
  },
  {
   "cell_type": "code",
   "execution_count": null,
   "metadata": {},
   "outputs": [],
   "source": [
    "lr = .05\n",
    "optimizer = torch.optim.SGD([\n",
    "    {'params' : shallow.parameters(), 'lr':lr},\n",
    "    ], \n",
    "    lr=lr)\n",
    "\n",
    "reps = 100\n",
    "\n",
    "validation = '?'\n",
    "for rep in range(reps):\n",
    "    optimizer.zero_grad()\n",
    "    y = shallow(X[train])\n",
    "    loss = nn.CrossEntropyLoss()(y,Y[train])\n",
    "    loss.backward()\n",
    "    optimizer.step()\n",
    "    print('train loss: {loss}, val: {val}'.format(loss=loss.item(), val=validation), end='    \\r')\n",
    "    \n",
    "    with torch.no_grad():\n",
    "        y = shallow(X[val])\n",
    "    Y_pred = torch.argmax(y, dim=1).numpy()\n",
    "    validation = f1_score(Y[val], Y_pred)"
   ]
  }
 ],
 "metadata": {
  "kernelspec": {
   "display_name": "Python 3",
   "language": "python",
   "name": "python3"
  },
  "language_info": {
   "codemirror_mode": {
    "name": "ipython",
    "version": 3
   },
   "file_extension": ".py",
   "mimetype": "text/x-python",
   "name": "python",
   "nbconvert_exporter": "python",
   "pygments_lexer": "ipython3",
   "version": "3.6.9"
  }
 },
 "nbformat": 4,
 "nbformat_minor": 4
}
